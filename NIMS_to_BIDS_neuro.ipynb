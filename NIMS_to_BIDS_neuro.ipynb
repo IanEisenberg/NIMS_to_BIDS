{
 "cells": [
  {
   "cell_type": "code",
   "execution_count": 1,
   "metadata": {
    "collapsed": true
   },
   "outputs": [],
   "source": [
    "import pandas as pd\n",
    "import os\n",
    "import re\n",
    "from shutil import copyfile"
   ]
  },
  {
   "cell_type": "code",
   "execution_count": 2,
   "metadata": {
    "collapsed": false
   },
   "outputs": [],
   "source": [
    "#Read files\n",
    "xls = pd.ExcelFile('BIDS_info.xlsx')\n",
    "\n",
    "#path variables\n",
    "BIDS='./BIDS_data/'\n",
    "NIMS='./NIMS_data/'\n",
    "\n",
    "#Make folder if folder doesn't exist function\n",
    "def makefolder(name):\n",
    "    if not os.path.exists(name):\n",
    "        os.makedirs(name)"
   ]
  },
  {
   "cell_type": "code",
   "execution_count": 3,
   "metadata": {
    "collapsed": false
   },
   "outputs": [],
   "source": [
    "participants = xls.parse('participants')\n",
    "protocol = xls.parse('protocol', convert_float=False).iloc[1:,:4] #columns 5 on are reference columns\n",
    "protocol = protocol.dropna(axis=0, thresh=3) #get rid of items that don't have a bids equivalent\n",
    "protocol.run_number = protocol.run_number.astype('str').str.strip('.0')\n",
    "protocol[\"BIDS_scan_title_path\"] = BIDS + \"sub-###/\" + protocol.ANAT_or_FUNCT + \"/sub-###_\" + protocol.BIDS_scan_title + \"_run-\" + protocol.run_number + \".nii.gz\"\n",
    "\n",
    "protocol.BIDS_scan_title_path = protocol.BIDS_scan_title_path.str.replace('_run-nan', '')\n",
    "\n",
    "NIMS_dir_ref = protocol.NIMS_scan_title.tolist()\n",
    "\n",
    "NIMS_BIDS_conversion = protocol[[0,4]]"
   ]
  },
  {
   "cell_type": "code",
   "execution_count": 4,
   "metadata": {
    "collapsed": false
   },
   "outputs": [
    {
     "data": {
      "text/plain": [
       "0    None\n",
       "1    None\n",
       "2    None\n",
       "3    None\n",
       "4    None\n",
       "Name: participant_id, dtype: object"
      ]
     },
     "execution_count": 4,
     "metadata": {},
     "output_type": "execute_result"
    }
   ],
   "source": [
    "#Create Participants folders in BIDS\n",
    "makefolder(BIDS)\n",
    "participants.participant_id.apply(lambda x: makefolder(BIDS + 'sub-' + str(x) + \"/anat\"))\n",
    "participants.participant_id.apply(lambda x: makefolder(BIDS + 'sub-' + str(x) + \"/funct\"))"
   ]
  },
  {
   "cell_type": "code",
   "execution_count": 5,
   "metadata": {
    "collapsed": false
   },
   "outputs": [],
   "source": [
    "def check_against_protocol(participants,protocol): \n",
    "    \n",
    "    all_files_correct = True\n",
    "\n",
    "    for index, row in participants.iterrows():\n",
    "        #Get files\n",
    "        NIMS_dir_files = os.listdir(NIMS + row.nims_title)\n",
    "\n",
    "        #Delete all non-nii.gz files\n",
    "        NIMS_dir_files = [x for x in NIMS_dir_files if \".nii.gz\"  in x]\n",
    "\n",
    "        for item in set(NIMS_dir_ref):\n",
    "            directory_filenames = [x for x in NIMS_dir_files if item in x]\n",
    "            protocol_filenames = NIMS_BIDS_conversion[NIMS_BIDS_conversion.NIMS_scan_title.str.contains(item)]\n",
    "            protocol_filenames = protocol_filenames.iloc[:,1].tolist()\n",
    "            \n",
    "            if len(directory_filenames) == len(protocol_filenames):\n",
    "                print(\"sub-\" + str(row.participant_id) + \": ++ \" + item.rjust(20) + \" match\")\n",
    "\n",
    "            else:\n",
    "                print(\"sub-\" + str(row.participant_id) + \": -- \"+ item.rjust(20) + \" files do not match protocol\")\n",
    "                all_files_correct = False\n",
    "        print(\"------------\")\n",
    "        \n",
    "        \n",
    "    print(\"All your folders match your protocol\") if all_files_correct else print(\"Some folders do not match your protocol, please resolve errors\")"
   ]
  },
  {
   "cell_type": "code",
   "execution_count": 6,
   "metadata": {
    "collapsed": false
   },
   "outputs": [
    {
     "name": "stdout",
     "output_type": "stream",
     "text": [
      "sub-100: ++   BOLD_EPI_29mm_2sec match\n",
      "sub-100: ++        T1w_9mm_BRAVO match\n",
      "------------\n",
      "sub-101: ++   BOLD_EPI_29mm_2sec match\n",
      "sub-101: ++        T1w_9mm_BRAVO match\n",
      "------------\n",
      "sub-102: --   BOLD_EPI_29mm_2sec files do not match protocol\n",
      "sub-102: ++        T1w_9mm_BRAVO match\n",
      "------------\n",
      "sub-103: ++   BOLD_EPI_29mm_2sec match\n",
      "sub-103: ++        T1w_9mm_BRAVO match\n",
      "------------\n",
      "sub-104: ++   BOLD_EPI_29mm_2sec match\n",
      "sub-104: ++        T1w_9mm_BRAVO match\n",
      "------------\n",
      "Some folders do not match your protocol, please resolve errors\n"
     ]
    }
   ],
   "source": [
    "check_against_protocol(participants, protocol)"
   ]
  },
  {
   "cell_type": "code",
   "execution_count": 15,
   "metadata": {
    "collapsed": false
   },
   "outputs": [],
   "source": [
    "def rename_to_bids(participants, protocol):\n",
    "\n",
    "    for index, row in participants.iterrows():\n",
    "        #Get files\n",
    "        NIMS_dir_files = os.listdir(NIMS + row.nims_title)\n",
    "\n",
    "        #Delete all non-nii.gz files\n",
    "        NIMS_dir_files = [x for x in NIMS_dir_files if \".nii.gz\"  in x]\n",
    "\n",
    "        for item in set(NIMS_dir_ref):\n",
    "            directory_filenames = [x for x in NIMS_dir_files if item in x]\n",
    "            protocol_filenames = NIMS_BIDS_conversion[NIMS_BIDS_conversion.NIMS_scan_title.str.contains(item)]\n",
    "            protocol_filenames = protocol_filenames.iloc[:,1].tolist()\n",
    "            \n",
    "            assert len(directory_filenames) == len(protocol_filenames), \"filelists aren't the same length\"\n",
    "            \n",
    "            for index, item in enumerate(directory_filenames):\n",
    "                oldpath = (NIMS + row.nims_title + \"/\" + directory_filenames[index])\n",
    "                newpath = (protocol_filenames[index].replace(\"###\", str(row.participant_id)))\n",
    "                copyfile(oldpath, newpath)\n",
    "        \n",
    "                print(\"sub-\" + str(row.participant_id) + item.rjust(20))\n",
    "        print(\"------------\")\n",
    "        \n"
   ]
  },
  {
   "cell_type": "code",
   "execution_count": 16,
   "metadata": {
    "collapsed": false
   },
   "outputs": [
    {
     "name": "stdout",
     "output_type": "stream",
     "text": [
      "sub-100: ++ 0004_01_BOLD_EPI_29mm_2sec.nii.gz\n",
      "sub-100: ++ 0005_01_BOLD_EPI_29mm_2sec.nii.gz\n",
      "sub-100: ++ 0006_01_BOLD_EPI_29mm_2sec.nii.gz\n",
      "sub-100: ++ 0007_01_BOLD_EPI_29mm_2sec.nii.gz\n",
      "sub-100: ++ 0008_01_T1w_9mm_BRAVO.nii.gz\n",
      "------------\n",
      "sub-101: ++ 0005_01_BOLD_EPI_29mm_2sec.nii.gz\n",
      "sub-101: ++ 0006_01_BOLD_EPI_29mm_2sec.nii.gz\n",
      "sub-101: ++ 0007_01_BOLD_EPI_29mm_2sec.nii.gz\n",
      "sub-101: ++ 0008_01_BOLD_EPI_29mm_2sec.nii.gz\n",
      "sub-101: ++ 0009_01_T1w_9mm_BRAVO.nii.gz\n",
      "------------\n",
      "sub-102: ++ 0004_01_BOLD_EPI_29mm_2sec.nii.gz\n",
      "sub-102: ++ 0005_01_BOLD_EPI_29mm_2sec.nii.gz\n",
      "sub-102: ++ 0006_01_BOLD_EPI_29mm_2sec.nii.gz\n",
      "sub-102: ++ 0007_01_BOLD_EPI_29mm_2sec.nii.gz\n",
      "sub-102: ++ 0008_01_T1w_9mm_BRAVO.nii.gz\n",
      "------------\n",
      "sub-103: ++ 0004_01_BOLD_EPI_29mm_2sec.nii.gz\n",
      "sub-103: ++ 0005_01_BOLD_EPI_29mm_2sec.nii.gz\n",
      "sub-103: ++ 0006_01_BOLD_EPI_29mm_2sec.nii.gz\n",
      "sub-103: ++ 0007_01_BOLD_EPI_29mm_2sec.nii.gz\n",
      "sub-103: ++ 0008_01_T1w_9mm_BRAVO.nii.gz\n",
      "------------\n",
      "sub-104: ++ 0004_01_BOLD_EPI_29mm_2sec.nii.gz\n",
      "sub-104: ++ 0008_01_BOLD_EPI_29mm_2sec.nii.gz\n",
      "sub-104: ++ 0009_01_BOLD_EPI_29mm_2sec.nii.gz\n",
      "sub-104: ++ 0010_01_BOLD_EPI_29mm_2sec.nii.gz\n",
      "sub-104: ++ 0011_01_T1w_9mm_BRAVO.nii.gz\n",
      "------------\n"
     ]
    }
   ],
   "source": [
    "rename_to_bids(participants, protocol)"
   ]
  },
  {
   "cell_type": "code",
   "execution_count": null,
   "metadata": {
    "collapsed": true
   },
   "outputs": [],
   "source": []
  }
 ],
 "metadata": {
  "kernelspec": {
   "display_name": "Python 3",
   "language": "python",
   "name": "python3"
  },
  "language_info": {
   "codemirror_mode": {
    "name": "ipython",
    "version": 3
   },
   "file_extension": ".py",
   "mimetype": "text/x-python",
   "name": "python",
   "nbconvert_exporter": "python",
   "pygments_lexer": "ipython3",
   "version": "3.6.0"
  }
 },
 "nbformat": 4,
 "nbformat_minor": 2
}
