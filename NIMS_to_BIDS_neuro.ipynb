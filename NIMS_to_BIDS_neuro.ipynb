{
 "cells": [
  {
   "cell_type": "code",
   "execution_count": 1,
   "metadata": {
    "collapsed": true
   },
   "outputs": [],
   "source": [
    "import pandas as pd\n",
    "import os\n",
    "import re"
   ]
  },
  {
   "cell_type": "code",
   "execution_count": 10,
   "metadata": {
    "collapsed": false
   },
   "outputs": [],
   "source": [
    "#Read files\n",
    "xls = pd.ExcelFile('BIDSJson.xlsx')\n",
    "\n",
    "#path variables\n",
    "BIDS='./BIDS_data/'\n",
    "NIMS='./NIMS_data/'\n",
    "\n",
    "#make BIDS Folder\n",
    "def makefolder(name):\n",
    "    if not os.path.exists(name):\n",
    "        os.makedirs(name)\n",
    "        \n",
    "makefolder(BIDS)\n",
    "\n",
    "\n"
   ]
  },
  {
   "cell_type": "code",
   "execution_count": 11,
   "metadata": {
    "collapsed": false
   },
   "outputs": [
    {
     "name": "stdout",
     "output_type": "stream",
     "text": [
      "['BOLD_EPI_29mm_2sec', 'BOLD_EPI_29mm_2sec', 'BOLD_EPI_29mm_2sec', 'BOLD_EPI_29mm_2sec', 'T1w_9mm_BRAVO']\n"
     ]
    }
   ],
   "source": [
    "participants = xls.parse('participants')\n",
    "protocol = xls.parse('protocol').iloc[:,:4]\n",
    "protocol = protocol.dropna(axis=0, thresh=3)\n",
    "\n",
    "\n",
    "NIMS_dir_ref = protocol.NIMS_scan_title.tolist()\n",
    "print(NIMS_dir_ref)\n",
    "\n"
   ]
  },
  {
   "cell_type": "code",
   "execution_count": 15,
   "metadata": {
    "collapsed": false
   },
   "outputs": [
    {
     "data": {
      "text/plain": [
       "0    None\n",
       "1    None\n",
       "2    None\n",
       "3    None\n",
       "4    None\n",
       "Name: participant_id, dtype: object"
      ]
     },
     "execution_count": 15,
     "metadata": {},
     "output_type": "execute_result"
    }
   ],
   "source": [
    "#Create Participants folders in BIDS\n",
    "participants.participant_id.apply(lambda x: makefolder(BIDS + 'sub-' + str(x)))"
   ]
  },
  {
   "cell_type": "code",
   "execution_count": 19,
   "metadata": {
    "collapsed": false
   },
   "outputs": [
    {
     "name": "stdout",
     "output_type": "stream",
     "text": [
      "222: ++BOLD_EPI_29mm_2sec file counts match, moving to BIDS_data\n",
      "222: ++T1w_9mm_BRAVO file counts match, moving to BIDS_data\n",
      "262: ++BOLD_EPI_29mm_2sec file counts match, moving to BIDS_data\n",
      "262: ++T1w_9mm_BRAVO file counts match, moving to BIDS_data\n",
      "154: ++BOLD_EPI_29mm_2sec file counts match, moving to BIDS_data\n",
      "154: ++T1w_9mm_BRAVO file counts match, moving to BIDS_data\n",
      "231: ++BOLD_EPI_29mm_2sec file counts match, moving to BIDS_data\n",
      "231: ++T1w_9mm_BRAVO file counts match, moving to BIDS_data\n",
      "280: ++BOLD_EPI_29mm_2sec file counts match, moving to BIDS_data\n",
      "280: ++T1w_9mm_BRAVO file counts match, moving to BIDS_data\n"
     ]
    }
   ],
   "source": [
    "\n",
    "\n",
    "\n",
    "#Get list of files in participant folder\n",
    "for index, row in participants.iterrows():\n",
    "    #Get files\n",
    "    NIMS_dir_files = os.listdir(NIMS + row.nims_title)\n",
    "    \n",
    "    #Get rid of headers\n",
    "    NIMS_dir_files = [re.sub(r'[0-9]{4}_[0-9]{2}_', r'',x) for x in NIMS_dir_files]\n",
    "    \n",
    "    #Delete all non-nii.gz files\n",
    "    NIMS_dir_files = [x for x in NIMS_dir_files if \".nii.gz\"  in x]\n",
    "    \n",
    "    #Remove .nii.gz\n",
    "    NIMS_dir_files = [re.sub(r'.nii.gz', r'',x) for x in NIMS_dir_files]\n",
    "\n",
    "    #Remove files not in NIMS_dir_ref\n",
    "    NIMS_dir_files = [x for x in NIMS_dir_files if x in NIMS_dir_ref]\n",
    "\n",
    "    \n",
    "    for item in set(NIMS_dir_ref):\n",
    "        if NIMS_dir_files.count(item) == NIMS_dir_ref.count(item):\n",
    "            print(str(row.participant_id) + \": ++\" + item + \" file counts match, moving to BIDS_data\")\n",
    "            \n",
    "        else:\n",
    "            print(str(row.participant_id) + \": --\"+ item + \" file counts do not match protocol\")\n"
   ]
  },
  {
   "cell_type": "code",
   "execution_count": null,
   "metadata": {
    "collapsed": false
   },
   "outputs": [],
   "source": [
    "[x for x in ]"
   ]
  },
  {
   "cell_type": "code",
   "execution_count": null,
   "metadata": {
    "collapsed": true
   },
   "outputs": [],
   "source": []
  },
  {
   "cell_type": "code",
   "execution_count": null,
   "metadata": {
    "collapsed": true
   },
   "outputs": [],
   "source": []
  }
 ],
 "metadata": {
  "kernelspec": {
   "display_name": "Python 3",
   "language": "python",
   "name": "python3"
  },
  "language_info": {
   "codemirror_mode": {
    "name": "ipython",
    "version": 3
   },
   "file_extension": ".py",
   "mimetype": "text/x-python",
   "name": "python",
   "nbconvert_exporter": "python",
   "pygments_lexer": "ipython3",
   "version": "3.6.0"
  }
 },
 "nbformat": 4,
 "nbformat_minor": 2
}
