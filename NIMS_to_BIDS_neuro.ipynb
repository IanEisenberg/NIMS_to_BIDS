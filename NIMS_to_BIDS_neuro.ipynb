{
 "cells": [
  {
   "cell_type": "code",
   "execution_count": 192,
   "metadata": {
    "collapsed": true
   },
   "outputs": [],
   "source": [
    "import pandas as pd\n",
    "import os\n",
    "import re\n",
    "from shutil import copyfile"
   ]
  },
  {
   "cell_type": "code",
   "execution_count": 45,
   "metadata": {
    "collapsed": false
   },
   "outputs": [],
   "source": [
    "#Read files\n",
    "xls = pd.ExcelFile('BIDS_info.xlsx')\n",
    "\n",
    "#path variables\n",
    "BIDS='./BIDS_data/'\n",
    "NIMS='./NIMS_data/'\n",
    "\n",
    "#Make folder if folder doesn't exist function\n",
    "def makefolder(name):\n",
    "    if not os.path.exists(name):\n",
    "        os.makedirs(name)\n",
    "        \n",
    "makefolder(BIDS)\n",
    "\n",
    "\n"
   ]
  },
  {
   "cell_type": "code",
   "execution_count": null,
   "metadata": {
    "collapsed": true
   },
   "outputs": [],
   "source": []
  },
  {
   "cell_type": "code",
   "execution_count": 109,
   "metadata": {
    "collapsed": false
   },
   "outputs": [],
   "source": [
    "participants = xls.parse('participants')\n",
    "protocol = xls.parse('protocol', convert_float=False).iloc[1:,:4] #columns 5 on are reference columns\n",
    "protocol = protocol.dropna(axis=0, thresh=3) #get rid of items that don't have a bids equivalent\n",
    "protocol.run_number = protocol.run_number.astype('str').str.strip('.0')\n",
    "protocol[\"BIDS_scan_title_path\"] = BIDS + \"subprotocol.ANAT_or_FUNCT + \"/sub-###_\" + protocol.BIDS_scan_title + \"_run-\" + protocol.run_number + \".nii.gz\"\n",
    "\n",
    "NIMS_dir_ref = protocol.NIMS_scan_title.tolist()\n",
    "\n",
    "NIMS_BIDS_conversion = protocol[[0,4]]"
   ]
  },
  {
   "cell_type": "code",
   "execution_count": 112,
   "metadata": {
    "collapsed": false
   },
   "outputs": [
    {
     "name": "stdout",
     "output_type": "stream",
     "text": [
      "      NIMS_scan_title                         BIDS_scan_title_path\n",
      "3  BOLD_EPI_29mm_2sec   ./BIDS_data/funct/sub-###_emp_run-1.nii.gz\n",
      "4  BOLD_EPI_29mm_2sec   ./BIDS_data/funct/sub-###_emp_run-2.nii.gz\n",
      "5  BOLD_EPI_29mm_2sec   ./BIDS_data/funct/sub-###_emp_run-3.nii.gz\n",
      "6  BOLD_EPI_29mm_2sec   ./BIDS_data/funct/sub-###_emp_run-4.nii.gz\n",
      "7       T1w_9mm_BRAVO  ./BIDS_data/anat/sub-###_T1w_run-nan.nii.gz\n"
     ]
    }
   ],
   "source": [
    "print(NIMS_BIDS_conversion)"
   ]
  },
  {
   "cell_type": "code",
   "execution_count": 90,
   "metadata": {
    "collapsed": false
   },
   "outputs": [],
   "source": [
    "#Create Participants folders in BIDS\n",
    "#participants.participant_id.apply(lambda x: makefolder(BIDS + 'sub-' + str(x)))"
   ]
  },
  {
   "cell_type": "code",
   "execution_count": null,
   "metadata": {
    "collapsed": false
   },
   "outputs": [],
   "source": []
  },
  {
   "cell_type": "code",
   "execution_count": 39,
   "metadata": {
    "collapsed": false
   },
   "outputs": [],
   "source": [
    "\n",
    "def check_against_protocol(participants,protocol): \n",
    "    \n",
    "    \n",
    "    all_files_correct = True\n",
    "    \n",
    "    #Get list of files in for each participant\n",
    "    for index, row in participants.iterrows():\n",
    "        #Get files\n",
    "        NIMS_dir_files = os.listdir(NIMS + row.nims_title)\n",
    "\n",
    "        #Get rid of scan order headers (follow format ####_##_SCANNAME.nii.gz)\n",
    "        NIMS_dir_files = [re.sub(r'[0-9]{4}_[0-9]{2}_', r'',x) for x in NIMS_dir_files]\n",
    "\n",
    "        #Delete all non-nii.gz files\n",
    "        NIMS_dir_files = [x for x in NIMS_dir_files if \".nii.gz\"  in x]\n",
    "\n",
    "        #Remove .nii.gz\n",
    "        NIMS_dir_files = [re.sub(r'.nii.gz', r'',x) for x in NIMS_dir_files]\n",
    "\n",
    "        #Remove files not in NIMS_dir_ref\n",
    "        NIMS_dir_files = [x for x in NIMS_dir_files if x in NIMS_dir_ref]\n",
    "\n",
    "\n",
    "        for item in set(NIMS_dir_ref):\n",
    "            if NIMS_dir_files.count(item) == NIMS_dir_ref.count(item):\n",
    "                print(\"sub-\" + str(row.participant_id) + \": ++ \" + item.rjust(20) + \" match\")\n",
    "\n",
    "            else:\n",
    "                print(\"sub-\" + str(row.participant_id) + \": -- \"+ item.rjust(20) + \" files do not match protocol\")\n",
    "                all_files_correct = False\n",
    "        print(\"------------\")\n",
    "        \n",
    "        \n",
    "    print(\"All your folders match your protocol\") if all_files_correct else print(\"Some folders do not match your protocol, please resolve errors\")"
   ]
  },
  {
   "cell_type": "code",
   "execution_count": 40,
   "metadata": {
    "collapsed": false
   },
   "outputs": [
    {
     "name": "stdout",
     "output_type": "stream",
     "text": [
      "sub-100: ++   BOLD_EPI_29mm_2sec match\n",
      "sub-100: ++        T1w_9mm_BRAVO match\n",
      "------------\n",
      "sub-101: ++   BOLD_EPI_29mm_2sec match\n",
      "sub-101: ++        T1w_9mm_BRAVO match\n",
      "------------\n",
      "sub-102: --   BOLD_EPI_29mm_2sec files do not match protocol\n",
      "sub-102: ++        T1w_9mm_BRAVO match\n",
      "------------\n",
      "sub-103: ++   BOLD_EPI_29mm_2sec match\n",
      "sub-103: ++        T1w_9mm_BRAVO match\n",
      "------------\n",
      "sub-104: ++   BOLD_EPI_29mm_2sec match\n",
      "sub-104: ++        T1w_9mm_BRAVO match\n",
      "------------\n",
      "Some folders do not match your protocol, please resolve errors\n"
     ]
    }
   ],
   "source": [
    "check_against_protocol(participants, protocol)"
   ]
  },
  {
   "cell_type": "code",
   "execution_count": 193,
   "metadata": {
    "collapsed": false
   },
   "outputs": [],
   "source": [
    "def rename_to_bids(participants, protocol):\n",
    "\n",
    "    for index, row in participants.iterrows():\n",
    "        #Get files\n",
    "        NIMS_dir_files = os.listdir(NIMS + row.nims_title)\n",
    "\n",
    "        #Delete all non-nii.gz files\n",
    "        NIMS_dir_files = [x for x in NIMS_dir_files if \".nii.gz\"  in x]\n",
    "\n",
    "        for item in set(NIMS_dir_ref):\n",
    "            directory_filenames = [x for x in NIMS_dir_files if item in x]\n",
    "            protocol_filenames = NIMS_BIDS_conversion[NIMS_BIDS_conversion.NIMS_scan_title.str.contains(item)]\n",
    "            protocol_filenames = protocol_filenames.iloc[:,1].tolist()\n",
    "            \n",
    "            assert len(directory_filenames) == len(protocol_filenames), \"filelists aren't the same length\"\n",
    "\n",
    "            for index, item in enumerate(directory_filenames):\n",
    "                oldpath = (NIMS + row.nims_title + \"/\" + directory_filenames[index])\n",
    "                newpath = (protocol_filenames[index].replace(\"###\", str(row.participant_id)))\n",
    "                copyfile(oldpath, newpath)\n",
    "        print(\"------------\")\n",
    "        \n"
   ]
  },
  {
   "cell_type": "code",
   "execution_count": 194,
   "metadata": {
    "collapsed": false
   },
   "outputs": [
    {
     "ename": "FileNotFoundError",
     "evalue": "[Errno 2] No such file or directory: './BIDS_data/funct/sub-100_emp_run-1.nii.gz'",
     "output_type": "error",
     "traceback": [
      "\u001b[0;31m---------------------------------------------------------------------------\u001b[0m",
      "\u001b[0;31mFileNotFoundError\u001b[0m                         Traceback (most recent call last)",
      "\u001b[0;32m<ipython-input-194-f092c3337e0c>\u001b[0m in \u001b[0;36m<module>\u001b[0;34m()\u001b[0m\n\u001b[0;32m----> 1\u001b[0;31m \u001b[0mrename_to_bids\u001b[0m\u001b[0;34m(\u001b[0m\u001b[0mparticipants\u001b[0m\u001b[0;34m,\u001b[0m \u001b[0mprotocol\u001b[0m\u001b[0;34m)\u001b[0m\u001b[0;34m\u001b[0m\u001b[0m\n\u001b[0m",
      "\u001b[0;32m<ipython-input-193-ceb993d666aa>\u001b[0m in \u001b[0;36mrename_to_bids\u001b[0;34m(participants, protocol)\u001b[0m\n\u001b[1;32m     18\u001b[0m                 \u001b[0moldpath\u001b[0m \u001b[0;34m=\u001b[0m \u001b[0;34m(\u001b[0m\u001b[0mNIMS\u001b[0m \u001b[0;34m+\u001b[0m \u001b[0mrow\u001b[0m\u001b[0;34m.\u001b[0m\u001b[0mnims_title\u001b[0m \u001b[0;34m+\u001b[0m \u001b[0;34m\"/\"\u001b[0m \u001b[0;34m+\u001b[0m \u001b[0mdirectory_filenames\u001b[0m\u001b[0;34m[\u001b[0m\u001b[0mindex\u001b[0m\u001b[0;34m]\u001b[0m\u001b[0;34m)\u001b[0m\u001b[0;34m\u001b[0m\u001b[0m\n\u001b[1;32m     19\u001b[0m                 \u001b[0mnewpath\u001b[0m \u001b[0;34m=\u001b[0m \u001b[0;34m(\u001b[0m\u001b[0mprotocol_filenames\u001b[0m\u001b[0;34m[\u001b[0m\u001b[0mindex\u001b[0m\u001b[0;34m]\u001b[0m\u001b[0;34m.\u001b[0m\u001b[0mreplace\u001b[0m\u001b[0;34m(\u001b[0m\u001b[0;34m\"###\"\u001b[0m\u001b[0;34m,\u001b[0m \u001b[0mstr\u001b[0m\u001b[0;34m(\u001b[0m\u001b[0mrow\u001b[0m\u001b[0;34m.\u001b[0m\u001b[0mparticipant_id\u001b[0m\u001b[0;34m)\u001b[0m\u001b[0;34m)\u001b[0m\u001b[0;34m)\u001b[0m\u001b[0;34m\u001b[0m\u001b[0m\n\u001b[0;32m---> 20\u001b[0;31m                 \u001b[0mcopyfile\u001b[0m\u001b[0;34m(\u001b[0m\u001b[0moldpath\u001b[0m\u001b[0;34m,\u001b[0m \u001b[0mnewpath\u001b[0m\u001b[0;34m)\u001b[0m\u001b[0;34m\u001b[0m\u001b[0m\n\u001b[0m\u001b[1;32m     21\u001b[0m         \u001b[0mprint\u001b[0m\u001b[0;34m(\u001b[0m\u001b[0;34m\"------------\"\u001b[0m\u001b[0;34m)\u001b[0m\u001b[0;34m\u001b[0m\u001b[0m\n\u001b[1;32m     22\u001b[0m \u001b[0;34m\u001b[0m\u001b[0m\n",
      "\u001b[0;32m/Users/mdclark/anaconda3/lib/python3.6/shutil.py\u001b[0m in \u001b[0;36mcopyfile\u001b[0;34m(src, dst, follow_symlinks)\u001b[0m\n\u001b[1;32m    113\u001b[0m     \u001b[0;32melse\u001b[0m\u001b[0;34m:\u001b[0m\u001b[0;34m\u001b[0m\u001b[0m\n\u001b[1;32m    114\u001b[0m         \u001b[0;32mwith\u001b[0m \u001b[0mopen\u001b[0m\u001b[0;34m(\u001b[0m\u001b[0msrc\u001b[0m\u001b[0;34m,\u001b[0m \u001b[0;34m'rb'\u001b[0m\u001b[0;34m)\u001b[0m \u001b[0;32mas\u001b[0m \u001b[0mfsrc\u001b[0m\u001b[0;34m:\u001b[0m\u001b[0;34m\u001b[0m\u001b[0m\n\u001b[0;32m--> 115\u001b[0;31m             \u001b[0;32mwith\u001b[0m \u001b[0mopen\u001b[0m\u001b[0;34m(\u001b[0m\u001b[0mdst\u001b[0m\u001b[0;34m,\u001b[0m \u001b[0;34m'wb'\u001b[0m\u001b[0;34m)\u001b[0m \u001b[0;32mas\u001b[0m \u001b[0mfdst\u001b[0m\u001b[0;34m:\u001b[0m\u001b[0;34m\u001b[0m\u001b[0m\n\u001b[0m\u001b[1;32m    116\u001b[0m                 \u001b[0mcopyfileobj\u001b[0m\u001b[0;34m(\u001b[0m\u001b[0mfsrc\u001b[0m\u001b[0;34m,\u001b[0m \u001b[0mfdst\u001b[0m\u001b[0;34m)\u001b[0m\u001b[0;34m\u001b[0m\u001b[0m\n\u001b[1;32m    117\u001b[0m     \u001b[0;32mreturn\u001b[0m \u001b[0mdst\u001b[0m\u001b[0;34m\u001b[0m\u001b[0m\n",
      "\u001b[0;31mFileNotFoundError\u001b[0m: [Errno 2] No such file or directory: './BIDS_data/funct/sub-100_emp_run-1.nii.gz'"
     ]
    }
   ],
   "source": [
    "rename_to_bids(participants, protocol)"
   ]
  },
  {
   "cell_type": "code",
   "execution_count": null,
   "metadata": {
    "collapsed": true
   },
   "outputs": [],
   "source": []
  }
 ],
 "metadata": {
  "kernelspec": {
   "display_name": "Python 3",
   "language": "python",
   "name": "python3"
  },
  "language_info": {
   "codemirror_mode": {
    "name": "ipython",
    "version": 3
   },
   "file_extension": ".py",
   "mimetype": "text/x-python",
   "name": "python",
   "nbconvert_exporter": "python",
   "pygments_lexer": "ipython3",
   "version": "3.6.0"
  }
 },
 "nbformat": 4,
 "nbformat_minor": 2
}
