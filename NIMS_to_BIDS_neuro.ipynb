{
 "cells": [
  {
   "cell_type": "code",
   "execution_count": 1,
   "metadata": {
    "collapsed": true
   },
   "outputs": [],
   "source": [
    "import pandas as pd\n",
    "import os\n",
    "import re\n",
    "from shutil import copyfile\n",
    "import json"
   ]
  },
  {
   "cell_type": "code",
   "execution_count": 5,
   "metadata": {
    "collapsed": false
   },
   "outputs": [
    {
     "name": "stdout",
     "output_type": "stream",
     "text": [
      "Data needs to be in format: \n",
      "       Project Filename            \n",
      "        /          \\              \n",
      "    NIMS_data  BIDS_info.xlsx      \n",
      "       /                           \n",
      "Sub1 Sub2 Sub3                     \n",
      "\n",
      "                                   \n",
      "Please drag in project filepath    \n",
      "\n",
      "/Users/mdclark/Desktop/NIMS_to_BIDS\n"
     ]
    }
   ],
   "source": [
    "#Get Data Filepath\n",
    "\n",
    "print(\"Data needs to be in format: \\n\\\n",
    "       Project Filename            \\n\\\n",
    "        /          \\\\              \\n\\\n",
    "    NIMS_data  BIDS_info.xlsx      \\n\\\n",
    "       /                           \\n\\\n",
    "Sub1 Sub2 Sub3                     \\n\\n\\\n",
    "                                   \\n\\\n",
    "Please drag in project filepath    \\n\")\n",
    "      \n",
    "project_filepath = input()\n",
    "\n",
    "      \n",
    "#path variables\n",
    "BIDS= project_filepath + '/BIDS_data/'\n",
    "NIMS= project_filepath + '/NIMS_data/'\n"
   ]
  },
  {
   "cell_type": "code",
   "execution_count": 17,
   "metadata": {
    "collapsed": false
   },
   "outputs": [],
   "source": [
    "#Read files\n",
    "\n",
    "#Figure out what bids info xlsx is named \n",
    "project_file_contents = os.listdir(project_filepath)\n",
    "BIDS_filename = [x for x in project_file_contents if \"BIDS_info\" in x]\n",
    "\n",
    "\n",
    "\n",
    "assert len(BIDS_filename) == 1, 'This folder does not have a BIDS_info file or it has more than one info file' \n",
    "xls = pd.ExcelFile(project_filepath + \"/\" + BIDS_filename[0])\n",
    "\n",
    "\n",
    "#Make folder if folder doesn't exist function\n",
    "def makefolder(name):\n",
    "    if not os.path.exists(name):\n",
    "        os.makedirs(name)"
   ]
  },
  {
   "cell_type": "code",
   "execution_count": 18,
   "metadata": {
    "collapsed": false
   },
   "outputs": [],
   "source": [
    "#Load and Clean XLS File\n",
    "participants = xls.parse('participants')\n",
    "\n",
    "protocol = xls.parse('protocol', convert_float=False).iloc[1:,:6] #columns 5 on are reference columns\n",
    "protocol = protocol.dropna(axis=0, thresh=3) #get rid of items that don't have a bids equivalent\n",
    "protocol.run_number = protocol.run_number.astype('str').str.strip('.0').str.zfill(2) #Convert run int to string\n",
    "\n",
    "\n",
    "#Create \"bold\" portion of filename\n",
    "protocol['bold_filename'] = ''\n",
    "protocol.loc[protocol['ANAT_or_FUNC'] == 'func', 'bold_filename'] = '_bold'\n",
    "\n",
    "#Concatanate filename and clean\n",
    "protocol[\"BIDS_scan_title_path\"] = BIDS + \"sub-###/\" + protocol.ANAT_or_FUNC + \"/sub-###_\" + protocol.BIDS_scan_title + \"_run-\" + protocol.run_number + protocol.bold_filename + \".nii.gz\"\n",
    "protocol.BIDS_scan_title_path = protocol.BIDS_scan_title_path.str.replace('_run-nan', '') #For items that don't have runs\n",
    "\n",
    "#Create list for NIMS -> bids conversion\n",
    "NIMS_protocol_filenames = protocol.NIMS_scan_title.tolist() #Convert protocol scan titles to list\n",
    "NIMS_BIDS_conversion = protocol[[\"NIMS_scan_title\",\"BIDS_scan_title_path\"]]"
   ]
  },
  {
   "cell_type": "code",
   "execution_count": 19,
   "metadata": {
    "collapsed": false
   },
   "outputs": [],
   "source": [
    "def check_against_protocol(participants,protocol): \n",
    "    \n",
    "    all_files_correct = True\n",
    "\n",
    "    for index, row in participants.iterrows():\n",
    "        \n",
    "        #If directory is there, try will work\n",
    "        try:\n",
    "            #Get all files in participant directory\n",
    "            NIMS_participant_filenames = os.listdir(NIMS + row.nims_title)\n",
    "            #Delete all non-nii.gz files\n",
    "            NIMS_participant_filenames = [x for x in NIMS_participant_filenames if \".nii.gz\"  in x]\n",
    "\n",
    "            for item in set(NIMS_protocol_filenames):\n",
    "                \n",
    "                directory_filenames = [x for x in NIMS_participant_filenames if item in x]\n",
    "                protocol_filenames = NIMS_BIDS_conversion[NIMS_BIDS_conversion.NIMS_scan_title.str.contains(item)]\n",
    "                protocol_filenames = protocol_filenames.iloc[:,1].tolist()\n",
    "\n",
    "                if len(directory_filenames) == len(protocol_filenames):\n",
    "                    print(\"sub-\" + str(row.participant_id) + \": ++ \" + item.rjust(20) + \" match\")\n",
    "\n",
    "                else:\n",
    "                    print(\"sub-\" + str(row.participant_id) + \": -- \"+ item.rjust(20) + \" files do not match protocol\")\n",
    "                    all_files_correct = False\n",
    "            print(\"------------\")\n",
    "        \n",
    "        except:\n",
    "            all_files_correct = False\n",
    "            print(\"sub-\" + str(row.participant_id) + \": ERROR - folder is missing \\n------\")\n",
    "\n",
    "        \n",
    "        \n",
    "        \n",
    "    if all_files_correct:\n",
    "        print(\"\\nAll your folders match your protocol\\n\")  \n",
    "    else:\n",
    "        print(\"\\nSome folders do not match your protocol, please resolve errors\\n\")\n",
    "    \n",
    "    return all_files_correct"
   ]
  },
  {
   "cell_type": "code",
   "execution_count": 20,
   "metadata": {
    "collapsed": false
   },
   "outputs": [],
   "source": [
    "def write_text_files(participants, protocol): \n",
    "    \n",
    "    def to_file(filename, content): \n",
    "        with open(BIDS + filename + \".json\", \"w\") as text_file:\n",
    "            text_file.write(content)\n",
    "    \n",
    "    #Data Description\n",
    "    dataset_description = json.dumps({\"BIDSVersion\": \"1.0.0\", \\\n",
    "                                   \"License\": \"\", \\\n",
    "                                   \"Name\": \"dummy task name\",\\\n",
    "                                   \"ReferencesAndLinks\": \"\"})\n",
    "    to_file(\"dataset_description\", dataset_description)\n",
    "    \n",
    "\n",
    "    #Task Description\n",
    "    for item in set(protocol.loc[protocol.ANAT_or_FUNC == \"func\", 'BIDS_scan_title']):\n",
    "        full_task_name = protocol.loc[protocol.BIDS_scan_title == item, 'full_task_name']\n",
    "        full_task_name = full_task_name.reset_index(drop=True)[0] #Gets first instance of RT\n",
    "        \n",
    "        repetition_time = protocol.loc[protocol.BIDS_scan_title == item, 'repetition_time']\n",
    "        repetition_time = repetition_time.reset_index(drop=True)[0] #Gets first instance of RT\n",
    "        task_json = json.dumps({\"RepetitionTime\": repetition_time, \"TaskName\" : full_task_name})\n",
    "\n",
    "        to_file(item + \"_bold\", task_json)\n",
    "\n",
    "    #TSV\n",
    "    participant_tsv = participants.loc[:, ['participant_id', 'sex', 'age']]\n",
    "    participant_tsv.loc[:, 'participant_id'] = 'sub-' + participant_tsv.loc[:, 'participant_id'].astype(str)\n",
    "    participant_tsv.to_csv(BIDS + 'participants.tsv', sep='\\t', index=False)"
   ]
  },
  {
   "cell_type": "code",
   "execution_count": 21,
   "metadata": {
    "collapsed": false
   },
   "outputs": [],
   "source": [
    "def convert_to_bids(participants, protocol):\n",
    "    \n",
    "    print(\"Comparing Folders to Protocol...\\n\")\n",
    "    \n",
    "    if check_against_protocol(participants,protocol): #Function returns true is everything matches\n",
    "        \n",
    "        print(\"Creating BIDS_data folder\\n\")\n",
    "        #Make BIDS Folder\n",
    "        makefolder(BIDS)\n",
    "        participants.participant_id.apply(lambda x: makefolder(BIDS + 'sub-' + str(x) + \"/anat\"))\n",
    "        participants.participant_id.apply(lambda x: makefolder(BIDS + 'sub-' + str(x) + \"/func\"))\n",
    "        \n",
    "        for index, row in participants.iterrows():\n",
    "            #Get files\n",
    "            NIMS_participant_filenames = os.listdir(NIMS + row.nims_title)\n",
    "\n",
    "            #Delete all non-nii.gz files from list\n",
    "            NIMS_participant_filenames = [x for x in NIMS_participant_filenames if \".nii.gz\"  in x]\n",
    "\n",
    "            for item in set(NIMS_protocol_filenames):\n",
    "                directory_filenames = [x for x in NIMS_participant_filenames if item in x]\n",
    "                protocol_filenames = NIMS_BIDS_conversion[NIMS_BIDS_conversion.NIMS_scan_title.str.contains(item)]\n",
    "                protocol_filenames = protocol_filenames.iloc[:,1].tolist()\n",
    "\n",
    "                for index, item in enumerate(directory_filenames):\n",
    "                    oldpath = (NIMS + row.nims_title + \"/\" + directory_filenames[index])\n",
    "                    newpath = (protocol_filenames[index].replace(\"###\", str(row.participant_id)))\n",
    "                    copyfile(oldpath, newpath)\n",
    "\n",
    "                    print(\"sub-\" + str(row.participant_id) + \": ++ \"+ os.path.basename(newpath).rjust(20))\n",
    "            print(\"------------\")\n",
    "\n",
    "        print(\"\\nCreating JSON and .tsv Files\")\n",
    "        \n",
    "        write_text_files(participants, protocol)\n",
    "       \n",
    "        print(\"\\nDone!\")"
   ]
  },
  {
   "cell_type": "code",
   "execution_count": 22,
   "metadata": {
    "collapsed": false
   },
   "outputs": [
    {
     "name": "stdout",
     "output_type": "stream",
     "text": [
      "Comparing Folders to Protocol...\n",
      "\n",
      "sub-100: ++   BOLD_EPI_29mm_2sec match\n",
      "sub-100: ++        T1w_9mm_BRAVO match\n",
      "------------\n",
      "sub-101: ++   BOLD_EPI_29mm_2sec match\n",
      "sub-101: ++        T1w_9mm_BRAVO match\n",
      "------------\n",
      "sub-102: ERROR - folder is missing \n",
      "------\n",
      "sub-103: ++   BOLD_EPI_29mm_2sec match\n",
      "sub-103: ++        T1w_9mm_BRAVO match\n",
      "------------\n",
      "sub-104: ++   BOLD_EPI_29mm_2sec match\n",
      "sub-104: ++        T1w_9mm_BRAVO match\n",
      "------------\n",
      "\n",
      "Some folders do not match your protocol, please resolve errors\n",
      "\n"
     ]
    }
   ],
   "source": [
    "convert_to_bids(participants, protocol)"
   ]
  },
  {
   "cell_type": "code",
   "execution_count": null,
   "metadata": {
    "collapsed": true
   },
   "outputs": [],
   "source": []
  }
 ],
 "metadata": {
  "kernelspec": {
   "display_name": "Python 3",
   "language": "python",
   "name": "python3"
  },
  "language_info": {
   "codemirror_mode": {
    "name": "ipython",
    "version": 3
   },
   "file_extension": ".py",
   "mimetype": "text/x-python",
   "name": "python",
   "nbconvert_exporter": "python",
   "pygments_lexer": "ipython3",
   "version": "3.6.0"
  }
 },
 "nbformat": 4,
 "nbformat_minor": 2
}
